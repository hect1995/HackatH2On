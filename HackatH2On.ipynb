{
 "cells": [
  {
   "cell_type": "code",
   "execution_count": null,
   "metadata": {
    "collapsed": true
   },
   "outputs": [],
   "source": [
    "import tweepy\n",
    "from tweepy import OAuthHandler\n",
    "import json\n",
    "from tweepy import Stream\n",
    "from tweepy.streaming import StreamListener\n",
    "import dataset  #per guardar els fichers en una BD\n",
    "import time,threading  #l'utilitzare per fer que cada 10 segons s'executi el mirar si hi han nous tweets"
   ]
  },
  {
   "cell_type": "code",
   "execution_count": null,
   "metadata": {
    "collapsed": true
   },
   "outputs": [],
   "source": [
    "consumer_key = 'Jb1qld98VNlNX64rQYtre4dU8'  # tot aixo es necesari per connectarnos a la conta de twitter d'Alvaro\n",
    "consumer_secret = 'HV9KBVHweaYKWn8F7kF7Nuhw3zqDI3Bot4sqtqFo6dxmqX7tY4'\n",
    "access_token = '861315124459704320-RbiGm35PaghRHCLuZPu9u2IyP4GxaP2'\n",
    "access_secret = 'lmL5IKKn8CtI5bkTahXC4ZkLKcfirHpjVsP2A88ZQWC3F'\n",
    "\n",
    "CONNECTION_STRING = \"sqlite:///tweets_hack.db\"  #connexio a la base de dades, si esta buida crea un fitxer nou\n",
    "\n",
    "auth = OAuthHandler(consumer_key, consumer_secret)  #per permetre accedir a Twitter desde Python\n",
    "auth.set_access_token(access_token, access_secret)  #per permetre accedir a Twitter desde Python\n",
    "\n",
    "api = tweepy.API(auth)                              #per permetre accedir a Twitter desde Python"
   ]
  },
  {
   "cell_type": "code",
   "execution_count": null,
   "metadata": {
    "collapsed": true
   },
   "outputs": [],
   "source": [
    "db = dataset.connect(CONNECTION_STRING)  #ens connectem a a Base de Dades\n",
    "\n",
    "class MyListener(StreamListener):  #lo que llegeix tweets en LIVE\n",
    " \n",
    "    def on_status(self, status):  # a la que rep un nou tweet entra aqui\n",
    "        if status.retweeted_status:  #si es un retweet no el guardem ja que guardariem mes d'un cop el mateix missatge\n",
    "            return\n",
    "        ## ESPAI PER A DETERMINAR SI ES AVERIA O QUE, HA DE SER PROCESSAT SENCILL PERQUE SI TARDA MOLT CONNEXIO ES TENCA\n",
    "        ## Si es averia, pregunta o queixa estaria bé classificar-ho aqui i aixi poder guardar en tweets_hack tambe quin dels 3 tipus es\n",
    "        ## si es averia (if averia==1) en aquesta linea s'hauria d'enviar algo rapid a algú\n",
    "        table = db[\"tweets_hack\"]  #lo que afagirem a la base de dades\n",
    "        try:\n",
    "            table.insert(dict(\n",
    "                user_location=status.user.location,  #localitzacio\n",
    "                coordinates=status.coordinates,  #coordenades\n",
    "                text=status.text,  #text\n",
    "                user_name=status.user.screen_name,  #nom usuari\n",
    "            )) \n",
    "        except ProgrammingError as err:\n",
    "            print(err)\n",
    " \n",
    " \n",
    "    def on_error(self, status):\n",
    "        print(status)\n",
    "        return True \n",
    " \n",
    "twitter_stream = Stream(auth, MyListener())  #estableix una sessio d'streaming\n",
    "twitter_stream.filter(track=['@HackH2O_BCN'], async=True)  # es guarden tots els tweets en el ficher hackathon.json . async= True crec que el fa correr en un nou Thread"
   ]
  },
  {
   "cell_type": "markdown",
   "metadata": {},
   "source": [
    "Webs mirades:\n",
    "https://www.dataquest.io/blog/streaming-data-python/\n",
    "https://marcobonzanini.com/2015/03/02/mining-twitter-data-with-python-part-1/"
   ]
  },
  {
   "cell_type": "code",
   "execution_count": null,
   "metadata": {
    "collapsed": true
   },
   "outputs": [],
   "source": []
  }
 ],
 "metadata": {
  "kernelspec": {
   "display_name": "Python 2",
   "language": "python",
   "name": "python2"
  },
  "language_info": {
   "codemirror_mode": {
    "name": "ipython",
    "version": 2
   },
   "file_extension": ".py",
   "mimetype": "text/x-python",
   "name": "python",
   "nbconvert_exporter": "python",
   "pygments_lexer": "ipython2",
   "version": "2.7.13"
  }
 },
 "nbformat": 4,
 "nbformat_minor": 2
}
